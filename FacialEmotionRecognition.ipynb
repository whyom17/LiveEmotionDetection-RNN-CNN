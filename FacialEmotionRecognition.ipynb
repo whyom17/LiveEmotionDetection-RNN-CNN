{
  "cells": [
    {
      "cell_type": "markdown",
      "id": "063a15a0",
      "metadata": {},
      "source": [
        "#### Download the Dataset\n",
        "We use Kaggle to download the RAF-DB facial emotion dataset, which contains images labeled with different emotions. This dataset is needed for training our model."
      ]
    },
    {
      "cell_type": "code",
      "execution_count": 18,
      "id": "z6daY33TcAFD",
      "metadata": {
        "colab": {
          "base_uri": "https://localhost:8080/"
        },
        "id": "z6daY33TcAFD",
        "outputId": "c1569d14-cd18-480e-c01d-f17da0359fe7"
      },
      "outputs": [
        {
          "name": "stdout",
          "output_type": "stream",
          "text": [
            "Warning: Your Kaggle API key is readable by other users on this system! To fix this, you can run 'chmod 600 /root/.kaggle/kaggle.json'\n",
            "Dataset URL: https://www.kaggle.com/datasets/shuvoalok/raf-db-dataset\n",
            "License(s): other\n",
            "Downloading raf-db-dataset.zip to /content\n",
            "  0% 0.00/37.7M [00:00<?, ?B/s]\n",
            "100% 37.7M/37.7M [00:00<00:00, 1.31GB/s]\n"
          ]
        }
      ],
      "source": [
        "!kaggle datasets download -d shuvoalok/raf-db-dataset"
      ]
    },
    {
      "cell_type": "markdown",
      "id": "a991ed0f",
      "metadata": {},
      "source": [
        "#### Import Image Data Generator\n",
        "We import a tool from TensorFlow called `ImageDataGenerator`. This helps us load images and apply simple transformations (like resizing or rotating) to make our model more robust."
      ]
    },
    {
      "cell_type": "code",
      "execution_count": 14,
      "id": "124bdf54",
      "metadata": {
        "id": "124bdf54"
      },
      "outputs": [],
      "source": [
        "from tensorflow.keras.preprocessing.image import ImageDataGenerator"
      ]
    },
    {
      "cell_type": "markdown",
      "id": "bf3e40c5",
      "metadata": {},
      "source": [
        "#### Set Paths for Training and Testing Data\n",
        "We specify where our training and testing images are located. These paths tell our code where to find the images after downloading and extracting the dataset."
      ]
    },
    {
      "cell_type": "code",
      "execution_count": 19,
      "id": "3ac57aa2",
      "metadata": {
        "id": "3ac57aa2"
      },
      "outputs": [],
      "source": [
        "train_path = \"/content/archive/archive/train\"\n",
        "test_path = \"/content/archive/archive/test\""
      ]
    },
    {
      "cell_type": "markdown",
      "id": "7a3c6ecc",
      "metadata": {},
      "source": [
        "#### Prepare Image Data Generators\n",
        "We create two data generators:\n",
        "- One for training images, which also applies random changes (like rotation, shifting, zooming, brightness, and flipping) to help the model learn better.\n",
        "- One for testing images, which only rescales the pixel values."
      ]
    },
    {
      "cell_type": "code",
      "execution_count": 20,
      "id": "367118e2",
      "metadata": {
        "id": "367118e2"
      },
      "outputs": [],
      "source": [
        "train_datagen = ImageDataGenerator(\n",
        "    rescale=1./255,\n",
        "    rotation_range=10,\n",
        "    width_shift_range=0.05,\n",
        "    height_shift_range=0.05,\n",
        "    zoom_range=0.05,\n",
        "    brightness_range=[0.9, 1.1],\n",
        "    horizontal_flip=True,\n",
        "    fill_mode='nearest'\n",
        ")\n",
        "test_datagen = ImageDataGenerator(\n",
        "    rescale=1./255\n",
        ")"
      ]
    },
    {
      "cell_type": "markdown",
      "id": "310cbca3",
      "metadata": {},
      "source": [
        "#### Load Images from Folders\n",
        "We use the data generators to load images from the specified folders. The images are resized to 100x100 pixels, and the labels are set up for multi-class classification (since we have multiple emotions)."
      ]
    },
    {
      "cell_type": "code",
      "execution_count": 21,
      "id": "6c2cb5c3",
      "metadata": {
        "colab": {
          "base_uri": "https://localhost:8080/"
        },
        "id": "6c2cb5c3",
        "outputId": "3fc18f7f-4379-44e0-9a26-486e01954f47"
      },
      "outputs": [
        {
          "name": "stdout",
          "output_type": "stream",
          "text": [
            "Found 12271 images belonging to 7 classes.\n",
            "Found 3068 images belonging to 7 classes.\n"
          ]
        }
      ],
      "source": [
        "train_generator = train_datagen.flow_from_directory(\n",
        "    train_path,\n",
        "    target_size=(100,100),\n",
        "    class_mode='categorical',\n",
        "    batch_size=32\n",
        ")\n",
        "test_generator = test_datagen.flow_from_directory(\n",
        "    test_path,\n",
        "    target_size=(100,100),\n",
        "    class_mode='categorical',\n",
        "    batch_size=32\n",
        ")"
      ]
    },
    {
      "cell_type": "markdown",
      "id": "32640011",
      "metadata": {},
      "source": [
        "#### Import Model Building Tools\n",
        "We import necessary components from TensorFlow and Keras to build our neural network. These include layers for convolution, pooling, flattening, normalization, and dropout."
      ]
    },
    {
      "cell_type": "code",
      "execution_count": 22,
      "id": "19360956",
      "metadata": {
        "id": "19360956"
      },
      "outputs": [],
      "source": [
        "from tensorflow import keras\n",
        "from keras import Sequential\n",
        "from keras.layers import Conv2D,Dense,MaxPool2D,Flatten,BatchNormalization,Dropout"
      ]
    },
    {
      "cell_type": "markdown",
      "id": "0905d35b",
      "metadata": {},
      "source": [
        "#### Build the Convolutional Neural Network (CNN)\n",
        "We create a CNN model. This type of model is good at recognizing patterns in images. The model has several layers:\n",
        "- Convolutional layers to detect features\n",
        "- Pooling layers to reduce size\n",
        "- Dense layers to make predictions\n",
        "- Batch normalization to stabilize learning\n",
        "- The final layer predicts one of seven emotions"
      ]
    },
    {
      "cell_type": "code",
      "execution_count": 23,
      "id": "bc3264c7",
      "metadata": {
        "colab": {
          "base_uri": "https://localhost:8080/"
        },
        "id": "bc3264c7",
        "outputId": "755df7a5-26b9-417c-a9a8-b460c590694e"
      },
      "outputs": [
        {
          "name": "stderr",
          "output_type": "stream",
          "text": [
            "/usr/local/lib/python3.11/dist-packages/keras/src/layers/convolutional/base_conv.py:113: UserWarning: Do not pass an `input_shape`/`input_dim` argument to a layer. When using Sequential models, prefer using an `Input(shape)` object as the first layer in the model instead.\n",
            "  super().__init__(activity_regularizer=activity_regularizer, **kwargs)\n"
          ]
        }
      ],
      "source": [
        "model = Sequential()\n",
        "\n",
        "model.add(Conv2D(64,kernel_size=(3,3),activation='relu',input_shape=(100,100,3)))\n",
        "model.add(Conv2D(64,kernel_size=(3,3),activation='relu'))\n",
        "model.add(MaxPool2D(pool_size=(2,2),strides=2))\n",
        "model.add(Conv2D(64,kernel_size=(3,3),activation='relu'))\n",
        "model.add(Conv2D(64,kernel_size=(3,3),activation='relu'))\n",
        "model.add(MaxPool2D(pool_size=(2,2),strides=2))\n",
        "model.add(Flatten())\n",
        "\n",
        "model.add(Dense(128,activation='relu'))\n",
        "model.add(BatchNormalization())\n",
        "model.add(Dense(128,activation='relu'))\n",
        "model.add(BatchNormalization())\n",
        "model.add(Dense(7,activation='softmax'))"
      ]
    },
    {
      "cell_type": "markdown",
      "id": "abf000f4",
      "metadata": {},
      "source": [
        "#### Show Model Summary\n",
        "We display a summary of our model, showing the layers and the number of parameters in each layer."
      ]
    },
    {
      "cell_type": "code",
      "execution_count": 24,
      "id": "e9d0326e",
      "metadata": {
        "colab": {
          "base_uri": "https://localhost:8080/",
          "height": 555
        },
        "id": "e9d0326e",
        "outputId": "e1f4842b-282e-4d25-da6a-0498b1de62ab"
      },
      "outputs": [
        {
          "data": {
            "text/html": [
              "<pre style=\"white-space:pre;overflow-x:auto;line-height:normal;font-family:Menlo,'DejaVu Sans Mono',consolas,'Courier New',monospace\"><span style=\"font-weight: bold\">Model: \"sequential\"</span>\n",
              "</pre>\n"
            ],
            "text/plain": [
              "\u001b[1mModel: \"sequential\"\u001b[0m\n"
            ]
          },
          "metadata": {},
          "output_type": "display_data"
        },
        {
          "data": {
            "text/html": [
              "<pre style=\"white-space:pre;overflow-x:auto;line-height:normal;font-family:Menlo,'DejaVu Sans Mono',consolas,'Courier New',monospace\">┏━━━━━━━━━━━━━━━━━━━━━━━━━━━━━━━━━┳━━━━━━━━━━━━━━━━━━━━━━━━┳━━━━━━━━━━━━━━━┓\n",
              "┃<span style=\"font-weight: bold\"> Layer (type)                    </span>┃<span style=\"font-weight: bold\"> Output Shape           </span>┃<span style=\"font-weight: bold\">       Param # </span>┃\n",
              "┡━━━━━━━━━━━━━━━━━━━━━━━━━━━━━━━━━╇━━━━━━━━━━━━━━━━━━━━━━━━╇━━━━━━━━━━━━━━━┩\n",
              "│ conv2d (<span style=\"color: #0087ff; text-decoration-color: #0087ff\">Conv2D</span>)                 │ (<span style=\"color: #00d7ff; text-decoration-color: #00d7ff\">None</span>, <span style=\"color: #00af00; text-decoration-color: #00af00\">98</span>, <span style=\"color: #00af00; text-decoration-color: #00af00\">98</span>, <span style=\"color: #00af00; text-decoration-color: #00af00\">64</span>)     │         <span style=\"color: #00af00; text-decoration-color: #00af00\">1,792</span> │\n",
              "├─────────────────────────────────┼────────────────────────┼───────────────┤\n",
              "│ conv2d_1 (<span style=\"color: #0087ff; text-decoration-color: #0087ff\">Conv2D</span>)               │ (<span style=\"color: #00d7ff; text-decoration-color: #00d7ff\">None</span>, <span style=\"color: #00af00; text-decoration-color: #00af00\">96</span>, <span style=\"color: #00af00; text-decoration-color: #00af00\">96</span>, <span style=\"color: #00af00; text-decoration-color: #00af00\">64</span>)     │        <span style=\"color: #00af00; text-decoration-color: #00af00\">36,928</span> │\n",
              "├─────────────────────────────────┼────────────────────────┼───────────────┤\n",
              "│ max_pooling2d (<span style=\"color: #0087ff; text-decoration-color: #0087ff\">MaxPooling2D</span>)    │ (<span style=\"color: #00d7ff; text-decoration-color: #00d7ff\">None</span>, <span style=\"color: #00af00; text-decoration-color: #00af00\">48</span>, <span style=\"color: #00af00; text-decoration-color: #00af00\">48</span>, <span style=\"color: #00af00; text-decoration-color: #00af00\">64</span>)     │             <span style=\"color: #00af00; text-decoration-color: #00af00\">0</span> │\n",
              "├─────────────────────────────────┼────────────────────────┼───────────────┤\n",
              "│ conv2d_2 (<span style=\"color: #0087ff; text-decoration-color: #0087ff\">Conv2D</span>)               │ (<span style=\"color: #00d7ff; text-decoration-color: #00d7ff\">None</span>, <span style=\"color: #00af00; text-decoration-color: #00af00\">46</span>, <span style=\"color: #00af00; text-decoration-color: #00af00\">46</span>, <span style=\"color: #00af00; text-decoration-color: #00af00\">64</span>)     │        <span style=\"color: #00af00; text-decoration-color: #00af00\">36,928</span> │\n",
              "├─────────────────────────────────┼────────────────────────┼───────────────┤\n",
              "│ conv2d_3 (<span style=\"color: #0087ff; text-decoration-color: #0087ff\">Conv2D</span>)               │ (<span style=\"color: #00d7ff; text-decoration-color: #00d7ff\">None</span>, <span style=\"color: #00af00; text-decoration-color: #00af00\">44</span>, <span style=\"color: #00af00; text-decoration-color: #00af00\">44</span>, <span style=\"color: #00af00; text-decoration-color: #00af00\">64</span>)     │        <span style=\"color: #00af00; text-decoration-color: #00af00\">36,928</span> │\n",
              "├─────────────────────────────────┼────────────────────────┼───────────────┤\n",
              "│ max_pooling2d_1 (<span style=\"color: #0087ff; text-decoration-color: #0087ff\">MaxPooling2D</span>)  │ (<span style=\"color: #00d7ff; text-decoration-color: #00d7ff\">None</span>, <span style=\"color: #00af00; text-decoration-color: #00af00\">22</span>, <span style=\"color: #00af00; text-decoration-color: #00af00\">22</span>, <span style=\"color: #00af00; text-decoration-color: #00af00\">64</span>)     │             <span style=\"color: #00af00; text-decoration-color: #00af00\">0</span> │\n",
              "├─────────────────────────────────┼────────────────────────┼───────────────┤\n",
              "│ flatten (<span style=\"color: #0087ff; text-decoration-color: #0087ff\">Flatten</span>)               │ (<span style=\"color: #00d7ff; text-decoration-color: #00d7ff\">None</span>, <span style=\"color: #00af00; text-decoration-color: #00af00\">30976</span>)          │             <span style=\"color: #00af00; text-decoration-color: #00af00\">0</span> │\n",
              "├─────────────────────────────────┼────────────────────────┼───────────────┤\n",
              "│ dense (<span style=\"color: #0087ff; text-decoration-color: #0087ff\">Dense</span>)                   │ (<span style=\"color: #00d7ff; text-decoration-color: #00d7ff\">None</span>, <span style=\"color: #00af00; text-decoration-color: #00af00\">128</span>)            │     <span style=\"color: #00af00; text-decoration-color: #00af00\">3,965,056</span> │\n",
              "├─────────────────────────────────┼────────────────────────┼───────────────┤\n",
              "│ batch_normalization             │ (<span style=\"color: #00d7ff; text-decoration-color: #00d7ff\">None</span>, <span style=\"color: #00af00; text-decoration-color: #00af00\">128</span>)            │           <span style=\"color: #00af00; text-decoration-color: #00af00\">512</span> │\n",
              "│ (<span style=\"color: #0087ff; text-decoration-color: #0087ff\">BatchNormalization</span>)            │                        │               │\n",
              "├─────────────────────────────────┼────────────────────────┼───────────────┤\n",
              "│ dense_1 (<span style=\"color: #0087ff; text-decoration-color: #0087ff\">Dense</span>)                 │ (<span style=\"color: #00d7ff; text-decoration-color: #00d7ff\">None</span>, <span style=\"color: #00af00; text-decoration-color: #00af00\">128</span>)            │        <span style=\"color: #00af00; text-decoration-color: #00af00\">16,512</span> │\n",
              "├─────────────────────────────────┼────────────────────────┼───────────────┤\n",
              "│ batch_normalization_1           │ (<span style=\"color: #00d7ff; text-decoration-color: #00d7ff\">None</span>, <span style=\"color: #00af00; text-decoration-color: #00af00\">128</span>)            │           <span style=\"color: #00af00; text-decoration-color: #00af00\">512</span> │\n",
              "│ (<span style=\"color: #0087ff; text-decoration-color: #0087ff\">BatchNormalization</span>)            │                        │               │\n",
              "├─────────────────────────────────┼────────────────────────┼───────────────┤\n",
              "│ dense_2 (<span style=\"color: #0087ff; text-decoration-color: #0087ff\">Dense</span>)                 │ (<span style=\"color: #00d7ff; text-decoration-color: #00d7ff\">None</span>, <span style=\"color: #00af00; text-decoration-color: #00af00\">7</span>)              │           <span style=\"color: #00af00; text-decoration-color: #00af00\">903</span> │\n",
              "└─────────────────────────────────┴────────────────────────┴───────────────┘\n",
              "</pre>\n"
            ],
            "text/plain": [
              "┏━━━━━━━━━━━━━━━━━━━━━━━━━━━━━━━━━┳━━━━━━━━━━━━━━━━━━━━━━━━┳━━━━━━━━━━━━━━━┓\n",
              "┃\u001b[1m \u001b[0m\u001b[1mLayer (type)                   \u001b[0m\u001b[1m \u001b[0m┃\u001b[1m \u001b[0m\u001b[1mOutput Shape          \u001b[0m\u001b[1m \u001b[0m┃\u001b[1m \u001b[0m\u001b[1m      Param #\u001b[0m\u001b[1m \u001b[0m┃\n",
              "┡━━━━━━━━━━━━━━━━━━━━━━━━━━━━━━━━━╇━━━━━━━━━━━━━━━━━━━━━━━━╇━━━━━━━━━━━━━━━┩\n",
              "│ conv2d (\u001b[38;5;33mConv2D\u001b[0m)                 │ (\u001b[38;5;45mNone\u001b[0m, \u001b[38;5;34m98\u001b[0m, \u001b[38;5;34m98\u001b[0m, \u001b[38;5;34m64\u001b[0m)     │         \u001b[38;5;34m1,792\u001b[0m │\n",
              "├─────────────────────────────────┼────────────────────────┼───────────────┤\n",
              "│ conv2d_1 (\u001b[38;5;33mConv2D\u001b[0m)               │ (\u001b[38;5;45mNone\u001b[0m, \u001b[38;5;34m96\u001b[0m, \u001b[38;5;34m96\u001b[0m, \u001b[38;5;34m64\u001b[0m)     │        \u001b[38;5;34m36,928\u001b[0m │\n",
              "├─────────────────────────────────┼────────────────────────┼───────────────┤\n",
              "│ max_pooling2d (\u001b[38;5;33mMaxPooling2D\u001b[0m)    │ (\u001b[38;5;45mNone\u001b[0m, \u001b[38;5;34m48\u001b[0m, \u001b[38;5;34m48\u001b[0m, \u001b[38;5;34m64\u001b[0m)     │             \u001b[38;5;34m0\u001b[0m │\n",
              "├─────────────────────────────────┼────────────────────────┼───────────────┤\n",
              "│ conv2d_2 (\u001b[38;5;33mConv2D\u001b[0m)               │ (\u001b[38;5;45mNone\u001b[0m, \u001b[38;5;34m46\u001b[0m, \u001b[38;5;34m46\u001b[0m, \u001b[38;5;34m64\u001b[0m)     │        \u001b[38;5;34m36,928\u001b[0m │\n",
              "├─────────────────────────────────┼────────────────────────┼───────────────┤\n",
              "│ conv2d_3 (\u001b[38;5;33mConv2D\u001b[0m)               │ (\u001b[38;5;45mNone\u001b[0m, \u001b[38;5;34m44\u001b[0m, \u001b[38;5;34m44\u001b[0m, \u001b[38;5;34m64\u001b[0m)     │        \u001b[38;5;34m36,928\u001b[0m │\n",
              "├─────────────────────────────────┼────────────────────────┼───────────────┤\n",
              "│ max_pooling2d_1 (\u001b[38;5;33mMaxPooling2D\u001b[0m)  │ (\u001b[38;5;45mNone\u001b[0m, \u001b[38;5;34m22\u001b[0m, \u001b[38;5;34m22\u001b[0m, \u001b[38;5;34m64\u001b[0m)     │             \u001b[38;5;34m0\u001b[0m │\n",
              "├─────────────────────────────────┼────────────────────────┼───────────────┤\n",
              "│ flatten (\u001b[38;5;33mFlatten\u001b[0m)               │ (\u001b[38;5;45mNone\u001b[0m, \u001b[38;5;34m30976\u001b[0m)          │             \u001b[38;5;34m0\u001b[0m │\n",
              "├─────────────────────────────────┼────────────────────────┼───────────────┤\n",
              "│ dense (\u001b[38;5;33mDense\u001b[0m)                   │ (\u001b[38;5;45mNone\u001b[0m, \u001b[38;5;34m128\u001b[0m)            │     \u001b[38;5;34m3,965,056\u001b[0m │\n",
              "├─────────────────────────────────┼────────────────────────┼───────────────┤\n",
              "│ batch_normalization             │ (\u001b[38;5;45mNone\u001b[0m, \u001b[38;5;34m128\u001b[0m)            │           \u001b[38;5;34m512\u001b[0m │\n",
              "│ (\u001b[38;5;33mBatchNormalization\u001b[0m)            │                        │               │\n",
              "├─────────────────────────────────┼────────────────────────┼───────────────┤\n",
              "│ dense_1 (\u001b[38;5;33mDense\u001b[0m)                 │ (\u001b[38;5;45mNone\u001b[0m, \u001b[38;5;34m128\u001b[0m)            │        \u001b[38;5;34m16,512\u001b[0m │\n",
              "├─────────────────────────────────┼────────────────────────┼───────────────┤\n",
              "│ batch_normalization_1           │ (\u001b[38;5;45mNone\u001b[0m, \u001b[38;5;34m128\u001b[0m)            │           \u001b[38;5;34m512\u001b[0m │\n",
              "│ (\u001b[38;5;33mBatchNormalization\u001b[0m)            │                        │               │\n",
              "├─────────────────────────────────┼────────────────────────┼───────────────┤\n",
              "│ dense_2 (\u001b[38;5;33mDense\u001b[0m)                 │ (\u001b[38;5;45mNone\u001b[0m, \u001b[38;5;34m7\u001b[0m)              │           \u001b[38;5;34m903\u001b[0m │\n",
              "└─────────────────────────────────┴────────────────────────┴───────────────┘\n"
            ]
          },
          "metadata": {},
          "output_type": "display_data"
        },
        {
          "data": {
            "text/html": [
              "<pre style=\"white-space:pre;overflow-x:auto;line-height:normal;font-family:Menlo,'DejaVu Sans Mono',consolas,'Courier New',monospace\"><span style=\"font-weight: bold\"> Total params: </span><span style=\"color: #00af00; text-decoration-color: #00af00\">4,096,071</span> (15.63 MB)\n",
              "</pre>\n"
            ],
            "text/plain": [
              "\u001b[1m Total params: \u001b[0m\u001b[38;5;34m4,096,071\u001b[0m (15.63 MB)\n"
            ]
          },
          "metadata": {},
          "output_type": "display_data"
        },
        {
          "data": {
            "text/html": [
              "<pre style=\"white-space:pre;overflow-x:auto;line-height:normal;font-family:Menlo,'DejaVu Sans Mono',consolas,'Courier New',monospace\"><span style=\"font-weight: bold\"> Trainable params: </span><span style=\"color: #00af00; text-decoration-color: #00af00\">4,095,559</span> (15.62 MB)\n",
              "</pre>\n"
            ],
            "text/plain": [
              "\u001b[1m Trainable params: \u001b[0m\u001b[38;5;34m4,095,559\u001b[0m (15.62 MB)\n"
            ]
          },
          "metadata": {},
          "output_type": "display_data"
        },
        {
          "data": {
            "text/html": [
              "<pre style=\"white-space:pre;overflow-x:auto;line-height:normal;font-family:Menlo,'DejaVu Sans Mono',consolas,'Courier New',monospace\"><span style=\"font-weight: bold\"> Non-trainable params: </span><span style=\"color: #00af00; text-decoration-color: #00af00\">512</span> (2.00 KB)\n",
              "</pre>\n"
            ],
            "text/plain": [
              "\u001b[1m Non-trainable params: \u001b[0m\u001b[38;5;34m512\u001b[0m (2.00 KB)\n"
            ]
          },
          "metadata": {},
          "output_type": "display_data"
        }
      ],
      "source": [
        "model.summary()"
      ]
    },
    {
      "cell_type": "markdown",
      "id": "085ebacd",
      "metadata": {},
      "source": [
        "#### Compile the Model\n",
        "We set up the model for training by choosing an optimizer (rmsprop), a loss function (categorical crossentropy), and a metric (accuracy) to track performance."
      ]
    },
    {
      "cell_type": "code",
      "execution_count": 25,
      "id": "4ba44c38",
      "metadata": {
        "id": "4ba44c38"
      },
      "outputs": [],
      "source": [
        "model.compile(optimizer='rmsprop',loss='categorical_crossentropy',metrics=['accuracy'])"
      ]
    },
    {
      "cell_type": "markdown",
      "id": "7166e811",
      "metadata": {},
      "source": [
        "#### Train the Model\n",
        "We train the model using our training images for 100 epochs (cycles through the data). We also check how well the model performs on the test images after each epoch."
      ]
    },
    {
      "cell_type": "code",
      "execution_count": 26,
      "id": "4f6a3a48",
      "metadata": {
        "colab": {
          "base_uri": "https://localhost:8080/"
        },
        "id": "4f6a3a48",
        "outputId": "7a890927-7474-44b8-86fd-c83fdbe25610"
      },
      "outputs": [
        {
          "name": "stderr",
          "output_type": "stream",
          "text": [
            "/usr/local/lib/python3.11/dist-packages/keras/src/trainers/data_adapters/py_dataset_adapter.py:121: UserWarning: Your `PyDataset` class should call `super().__init__(**kwargs)` in its constructor. `**kwargs` can include `workers`, `use_multiprocessing`, `max_queue_size`. Do not pass these arguments to `fit()`, as they will be ignored.\n",
            "  self._warn_if_super_not_called()\n"
          ]
        },
        {
          "name": "stdout",
          "output_type": "stream",
          "text": [
            "Epoch 1/100\n",
            "\u001b[1m384/384\u001b[0m \u001b[32m━━━━━━━━━━━━━━━━━━━━\u001b[0m\u001b[37m\u001b[0m \u001b[1m62s\u001b[0m 142ms/step - accuracy: 0.3880 - loss: 1.7085 - val_accuracy: 0.5476 - val_loss: 1.3896\n",
            "Epoch 2/100\n",
            "\u001b[1m384/384\u001b[0m \u001b[32m━━━━━━━━━━━━━━━━━━━━\u001b[0m\u001b[37m\u001b[0m \u001b[1m72s\u001b[0m 131ms/step - accuracy: 0.5373 - loss: 1.2752 - val_accuracy: 0.6177 - val_loss: 1.0547\n",
            "Epoch 3/100\n",
            "\u001b[1m384/384\u001b[0m \u001b[32m━━━━━━━━━━━━━━━━━━━━\u001b[0m\u001b[37m\u001b[0m \u001b[1m49s\u001b[0m 128ms/step - accuracy: 0.5953 - loss: 1.1137 - val_accuracy: 0.6115 - val_loss: 1.1294\n",
            "Epoch 4/100\n",
            "\u001b[1m384/384\u001b[0m \u001b[32m━━━━━━━━━━━━━━━━━━━━\u001b[0m\u001b[37m\u001b[0m \u001b[1m50s\u001b[0m 130ms/step - accuracy: 0.6410 - loss: 0.9977 - val_accuracy: 0.6838 - val_loss: 0.9684\n",
            "Epoch 5/100\n",
            "\u001b[1m384/384\u001b[0m \u001b[32m━━━━━━━━━━━━━━━━━━━━\u001b[0m\u001b[37m\u001b[0m \u001b[1m82s\u001b[0m 129ms/step - accuracy: 0.6694 - loss: 0.9308 - val_accuracy: 0.7093 - val_loss: 0.8050\n",
            "Epoch 6/100\n",
            "\u001b[1m384/384\u001b[0m \u001b[32m━━━━━━━━━━━━━━━━━━━━\u001b[0m\u001b[37m\u001b[0m \u001b[1m50s\u001b[0m 129ms/step - accuracy: 0.6828 - loss: 0.8792 - val_accuracy: 0.7066 - val_loss: 0.8197\n",
            "Epoch 7/100\n",
            "\u001b[1m384/384\u001b[0m \u001b[32m━━━━━━━━━━━━━━━━━━━━\u001b[0m\u001b[37m\u001b[0m \u001b[1m49s\u001b[0m 129ms/step - accuracy: 0.6999 - loss: 0.8288 - val_accuracy: 0.6763 - val_loss: 0.9405\n",
            "Epoch 8/100\n",
            "\u001b[1m384/384\u001b[0m \u001b[32m━━━━━━━━━━━━━━━━━━━━\u001b[0m\u001b[37m\u001b[0m \u001b[1m48s\u001b[0m 125ms/step - accuracy: 0.7112 - loss: 0.7879 - val_accuracy: 0.7344 - val_loss: 0.7759\n",
            "Epoch 9/100\n",
            "\u001b[1m384/384\u001b[0m \u001b[32m━━━━━━━━━━━━━━━━━━━━\u001b[0m\u001b[37m\u001b[0m \u001b[1m48s\u001b[0m 126ms/step - accuracy: 0.7254 - loss: 0.7793 - val_accuracy: 0.7275 - val_loss: 0.7709\n",
            "Epoch 10/100\n",
            "\u001b[1m384/384\u001b[0m \u001b[32m━━━━━━━━━━━━━━━━━━━━\u001b[0m\u001b[37m\u001b[0m \u001b[1m49s\u001b[0m 128ms/step - accuracy: 0.7250 - loss: 0.7690 - val_accuracy: 0.7171 - val_loss: 0.8424\n",
            "Epoch 11/100\n",
            "\u001b[1m384/384\u001b[0m \u001b[32m━━━━━━━━━━━━━━━━━━━━\u001b[0m\u001b[37m\u001b[0m \u001b[1m49s\u001b[0m 127ms/step - accuracy: 0.7381 - loss: 0.7333 - val_accuracy: 0.7673 - val_loss: 0.6796\n",
            "Epoch 12/100\n",
            "\u001b[1m384/384\u001b[0m \u001b[32m━━━━━━━━━━━━━━━━━━━━\u001b[0m\u001b[37m\u001b[0m \u001b[1m49s\u001b[0m 127ms/step - accuracy: 0.7434 - loss: 0.7079 - val_accuracy: 0.7503 - val_loss: 0.7259\n",
            "Epoch 13/100\n",
            "\u001b[1m384/384\u001b[0m \u001b[32m━━━━━━━━━━━━━━━━━━━━\u001b[0m\u001b[37m\u001b[0m \u001b[1m48s\u001b[0m 125ms/step - accuracy: 0.7517 - loss: 0.6874 - val_accuracy: 0.7660 - val_loss: 0.6682\n",
            "Epoch 14/100\n",
            "\u001b[1m384/384\u001b[0m \u001b[32m━━━━━━━━━━━━━━━━━━━━\u001b[0m\u001b[37m\u001b[0m \u001b[1m47s\u001b[0m 121ms/step - accuracy: 0.7534 - loss: 0.6843 - val_accuracy: 0.7601 - val_loss: 0.6885\n",
            "Epoch 15/100\n",
            "\u001b[1m384/384\u001b[0m \u001b[32m━━━━━━━━━━━━━━━━━━━━\u001b[0m\u001b[37m\u001b[0m \u001b[1m46s\u001b[0m 121ms/step - accuracy: 0.7608 - loss: 0.6570 - val_accuracy: 0.7692 - val_loss: 0.6349\n",
            "Epoch 16/100\n",
            "\u001b[1m384/384\u001b[0m \u001b[32m━━━━━━━━━━━━━━━━━━━━\u001b[0m\u001b[37m\u001b[0m \u001b[1m48s\u001b[0m 124ms/step - accuracy: 0.7632 - loss: 0.6658 - val_accuracy: 0.7735 - val_loss: 0.6273\n",
            "Epoch 17/100\n",
            "\u001b[1m384/384\u001b[0m \u001b[32m━━━━━━━━━━━━━━━━━━━━\u001b[0m\u001b[37m\u001b[0m \u001b[1m47s\u001b[0m 122ms/step - accuracy: 0.7701 - loss: 0.6395 - val_accuracy: 0.7588 - val_loss: 0.7213\n",
            "Epoch 18/100\n",
            "\u001b[1m384/384\u001b[0m \u001b[32m━━━━━━━━━━━━━━━━━━━━\u001b[0m\u001b[37m\u001b[0m \u001b[1m47s\u001b[0m 122ms/step - accuracy: 0.7817 - loss: 0.6198 - val_accuracy: 0.7810 - val_loss: 0.6361\n",
            "Epoch 19/100\n",
            "\u001b[1m384/384\u001b[0m \u001b[32m━━━━━━━━━━━━━━━━━━━━\u001b[0m\u001b[37m\u001b[0m \u001b[1m46s\u001b[0m 119ms/step - accuracy: 0.7785 - loss: 0.6120 - val_accuracy: 0.7780 - val_loss: 0.6738\n",
            "Epoch 20/100\n",
            "\u001b[1m384/384\u001b[0m \u001b[32m━━━━━━━━━━━━━━━━━━━━\u001b[0m\u001b[37m\u001b[0m \u001b[1m49s\u001b[0m 127ms/step - accuracy: 0.7793 - loss: 0.6028 - val_accuracy: 0.8041 - val_loss: 0.5890\n",
            "Epoch 21/100\n",
            "\u001b[1m384/384\u001b[0m \u001b[32m━━━━━━━━━━━━━━━━━━━━\u001b[0m\u001b[37m\u001b[0m \u001b[1m49s\u001b[0m 128ms/step - accuracy: 0.7865 - loss: 0.6098 - val_accuracy: 0.7744 - val_loss: 0.6300\n",
            "Epoch 22/100\n",
            "\u001b[1m384/384\u001b[0m \u001b[32m━━━━━━━━━━━━━━━━━━━━\u001b[0m\u001b[37m\u001b[0m \u001b[1m50s\u001b[0m 130ms/step - accuracy: 0.7850 - loss: 0.5879 - val_accuracy: 0.7757 - val_loss: 0.6251\n",
            "Epoch 23/100\n",
            "\u001b[1m384/384\u001b[0m \u001b[32m━━━━━━━━━━━━━━━━━━━━\u001b[0m\u001b[37m\u001b[0m \u001b[1m50s\u001b[0m 130ms/step - accuracy: 0.7992 - loss: 0.5668 - val_accuracy: 0.7943 - val_loss: 0.5834\n",
            "Epoch 24/100\n",
            "\u001b[1m384/384\u001b[0m \u001b[32m━━━━━━━━━━━━━━━━━━━━\u001b[0m\u001b[37m\u001b[0m \u001b[1m50s\u001b[0m 130ms/step - accuracy: 0.7948 - loss: 0.5676 - val_accuracy: 0.7917 - val_loss: 0.6088\n",
            "Epoch 25/100\n",
            "\u001b[1m384/384\u001b[0m \u001b[32m━━━━━━━━━━━━━━━━━━━━\u001b[0m\u001b[37m\u001b[0m \u001b[1m48s\u001b[0m 125ms/step - accuracy: 0.8057 - loss: 0.5459 - val_accuracy: 0.8008 - val_loss: 0.6096\n",
            "Epoch 26/100\n",
            "\u001b[1m384/384\u001b[0m \u001b[32m━━━━━━━━━━━━━━━━━━━━\u001b[0m\u001b[37m\u001b[0m \u001b[1m49s\u001b[0m 127ms/step - accuracy: 0.8004 - loss: 0.5615 - val_accuracy: 0.7914 - val_loss: 0.6173\n",
            "Epoch 27/100\n",
            "\u001b[1m384/384\u001b[0m \u001b[32m━━━━━━━━━━━━━━━━━━━━\u001b[0m\u001b[37m\u001b[0m \u001b[1m49s\u001b[0m 127ms/step - accuracy: 0.8056 - loss: 0.5312 - val_accuracy: 0.7940 - val_loss: 0.6875\n",
            "Epoch 28/100\n",
            "\u001b[1m384/384\u001b[0m \u001b[32m━━━━━━━━━━━━━━━━━━━━\u001b[0m\u001b[37m\u001b[0m \u001b[1m48s\u001b[0m 124ms/step - accuracy: 0.8136 - loss: 0.5137 - val_accuracy: 0.7920 - val_loss: 0.6065\n",
            "Epoch 29/100\n",
            "\u001b[1m384/384\u001b[0m \u001b[32m━━━━━━━━━━━━━━━━━━━━\u001b[0m\u001b[37m\u001b[0m \u001b[1m47s\u001b[0m 124ms/step - accuracy: 0.8057 - loss: 0.5437 - val_accuracy: 0.7849 - val_loss: 0.6218\n",
            "Epoch 30/100\n",
            "\u001b[1m384/384\u001b[0m \u001b[32m━━━━━━━━━━━━━━━━━━━━\u001b[0m\u001b[37m\u001b[0m \u001b[1m82s\u001b[0m 124ms/step - accuracy: 0.8075 - loss: 0.5297 - val_accuracy: 0.8028 - val_loss: 0.5873\n",
            "Epoch 31/100\n",
            "\u001b[1m384/384\u001b[0m \u001b[32m━━━━━━━━━━━━━━━━━━━━\u001b[0m\u001b[37m\u001b[0m \u001b[1m82s\u001b[0m 126ms/step - accuracy: 0.8087 - loss: 0.5247 - val_accuracy: 0.7956 - val_loss: 0.6593\n",
            "Epoch 32/100\n",
            "\u001b[1m384/384\u001b[0m \u001b[32m━━━━━━━━━━━━━━━━━━━━\u001b[0m\u001b[37m\u001b[0m \u001b[1m82s\u001b[0m 127ms/step - accuracy: 0.8180 - loss: 0.5012 - val_accuracy: 0.7581 - val_loss: 0.7356\n",
            "Epoch 33/100\n",
            "\u001b[1m384/384\u001b[0m \u001b[32m━━━━━━━━━━━━━━━━━━━━\u001b[0m\u001b[37m\u001b[0m \u001b[1m82s\u001b[0m 127ms/step - accuracy: 0.8202 - loss: 0.4973 - val_accuracy: 0.7875 - val_loss: 0.6553\n",
            "Epoch 34/100\n",
            "\u001b[1m384/384\u001b[0m \u001b[32m━━━━━━━━━━━━━━━━━━━━\u001b[0m\u001b[37m\u001b[0m \u001b[1m48s\u001b[0m 125ms/step - accuracy: 0.8227 - loss: 0.4931 - val_accuracy: 0.8116 - val_loss: 0.5747\n",
            "Epoch 35/100\n",
            "\u001b[1m384/384\u001b[0m \u001b[32m━━━━━━━━━━━━━━━━━━━━\u001b[0m\u001b[37m\u001b[0m \u001b[1m83s\u001b[0m 126ms/step - accuracy: 0.8197 - loss: 0.4899 - val_accuracy: 0.8207 - val_loss: 0.5887\n",
            "Epoch 36/100\n",
            "\u001b[1m384/384\u001b[0m \u001b[32m━━━━━━━━━━━━━━━━━━━━\u001b[0m\u001b[37m\u001b[0m \u001b[1m48s\u001b[0m 126ms/step - accuracy: 0.8321 - loss: 0.4783 - val_accuracy: 0.8100 - val_loss: 0.6115\n",
            "Epoch 37/100\n",
            "\u001b[1m384/384\u001b[0m \u001b[32m━━━━━━━━━━━━━━━━━━━━\u001b[0m\u001b[37m\u001b[0m \u001b[1m47s\u001b[0m 122ms/step - accuracy: 0.8386 - loss: 0.4629 - val_accuracy: 0.7885 - val_loss: 0.6368\n",
            "Epoch 38/100\n",
            "\u001b[1m384/384\u001b[0m \u001b[32m━━━━━━━━━━━━━━━━━━━━\u001b[0m\u001b[37m\u001b[0m \u001b[1m81s\u001b[0m 121ms/step - accuracy: 0.8375 - loss: 0.4459 - val_accuracy: 0.8119 - val_loss: 0.6068\n",
            "Epoch 39/100\n",
            "\u001b[1m384/384\u001b[0m \u001b[32m━━━━━━━━━━━━━━━━━━━━\u001b[0m\u001b[37m\u001b[0m \u001b[1m47s\u001b[0m 123ms/step - accuracy: 0.8341 - loss: 0.4589 - val_accuracy: 0.7529 - val_loss: 0.7395\n",
            "Epoch 40/100\n",
            "\u001b[1m384/384\u001b[0m \u001b[32m━━━━━━━━━━━━━━━━━━━━\u001b[0m\u001b[37m\u001b[0m \u001b[1m47s\u001b[0m 123ms/step - accuracy: 0.8350 - loss: 0.4551 - val_accuracy: 0.7982 - val_loss: 0.6265\n",
            "Epoch 41/100\n",
            "\u001b[1m384/384\u001b[0m \u001b[32m━━━━━━━━━━━━━━━━━━━━\u001b[0m\u001b[37m\u001b[0m \u001b[1m48s\u001b[0m 124ms/step - accuracy: 0.8406 - loss: 0.4413 - val_accuracy: 0.8201 - val_loss: 0.5759\n",
            "Epoch 42/100\n",
            "\u001b[1m384/384\u001b[0m \u001b[32m━━━━━━━━━━━━━━━━━━━━\u001b[0m\u001b[37m\u001b[0m \u001b[1m49s\u001b[0m 128ms/step - accuracy: 0.8349 - loss: 0.4593 - val_accuracy: 0.7966 - val_loss: 0.6207\n",
            "Epoch 43/100\n",
            "\u001b[1m384/384\u001b[0m \u001b[32m━━━━━━━━━━━━━━━━━━━━\u001b[0m\u001b[37m\u001b[0m \u001b[1m48s\u001b[0m 126ms/step - accuracy: 0.8444 - loss: 0.4404 - val_accuracy: 0.8116 - val_loss: 0.6911\n",
            "Epoch 44/100\n",
            "\u001b[1m384/384\u001b[0m \u001b[32m━━━━━━━━━━━━━━━━━━━━\u001b[0m\u001b[37m\u001b[0m \u001b[1m49s\u001b[0m 126ms/step - accuracy: 0.8498 - loss: 0.4178 - val_accuracy: 0.8227 - val_loss: 0.7333\n",
            "Epoch 45/100\n",
            "\u001b[1m384/384\u001b[0m \u001b[32m━━━━━━━━━━━━━━━━━━━━\u001b[0m\u001b[37m\u001b[0m \u001b[1m48s\u001b[0m 125ms/step - accuracy: 0.8459 - loss: 0.4247 - val_accuracy: 0.8051 - val_loss: 0.7398\n",
            "Epoch 46/100\n",
            "\u001b[1m384/384\u001b[0m \u001b[32m━━━━━━━━━━━━━━━━━━━━\u001b[0m\u001b[37m\u001b[0m \u001b[1m48s\u001b[0m 125ms/step - accuracy: 0.8428 - loss: 0.4395 - val_accuracy: 0.8145 - val_loss: 0.5825\n",
            "Epoch 47/100\n",
            "\u001b[1m384/384\u001b[0m \u001b[32m━━━━━━━━━━━━━━━━━━━━\u001b[0m\u001b[37m\u001b[0m \u001b[1m48s\u001b[0m 126ms/step - accuracy: 0.8459 - loss: 0.4363 - val_accuracy: 0.8077 - val_loss: 0.6061\n",
            "Epoch 48/100\n",
            "\u001b[1m384/384\u001b[0m \u001b[32m━━━━━━━━━━━━━━━━━━━━\u001b[0m\u001b[37m\u001b[0m \u001b[1m50s\u001b[0m 129ms/step - accuracy: 0.8550 - loss: 0.3987 - val_accuracy: 0.7764 - val_loss: 0.6957\n",
            "Epoch 49/100\n",
            "\u001b[1m384/384\u001b[0m \u001b[32m━━━━━━━━━━━━━━━━━━━━\u001b[0m\u001b[37m\u001b[0m \u001b[1m48s\u001b[0m 125ms/step - accuracy: 0.8550 - loss: 0.4122 - val_accuracy: 0.8198 - val_loss: 0.5635\n",
            "Epoch 50/100\n",
            "\u001b[1m384/384\u001b[0m \u001b[32m━━━━━━━━━━━━━━━━━━━━\u001b[0m\u001b[37m\u001b[0m \u001b[1m47s\u001b[0m 123ms/step - accuracy: 0.8531 - loss: 0.4025 - val_accuracy: 0.8083 - val_loss: 0.6084\n",
            "Epoch 51/100\n",
            "\u001b[1m384/384\u001b[0m \u001b[32m━━━━━━━━━━━━━━━━━━━━\u001b[0m\u001b[37m\u001b[0m \u001b[1m47s\u001b[0m 124ms/step - accuracy: 0.8573 - loss: 0.3955 - val_accuracy: 0.8100 - val_loss: 0.5982\n",
            "Epoch 52/100\n",
            "\u001b[1m384/384\u001b[0m \u001b[32m━━━━━━━━━━━━━━━━━━━━\u001b[0m\u001b[37m\u001b[0m \u001b[1m46s\u001b[0m 120ms/step - accuracy: 0.8550 - loss: 0.4041 - val_accuracy: 0.7992 - val_loss: 0.6666\n",
            "Epoch 53/100\n",
            "\u001b[1m384/384\u001b[0m \u001b[32m━━━━━━━━━━━━━━━━━━━━\u001b[0m\u001b[37m\u001b[0m \u001b[1m82s\u001b[0m 121ms/step - accuracy: 0.8529 - loss: 0.3933 - val_accuracy: 0.8171 - val_loss: 0.5982\n",
            "Epoch 54/100\n",
            "\u001b[1m384/384\u001b[0m \u001b[32m━━━━━━━━━━━━━━━━━━━━\u001b[0m\u001b[37m\u001b[0m \u001b[1m49s\u001b[0m 127ms/step - accuracy: 0.8627 - loss: 0.3843 - val_accuracy: 0.7816 - val_loss: 0.6875\n",
            "Epoch 55/100\n",
            "\u001b[1m384/384\u001b[0m \u001b[32m━━━━━━━━━━━━━━━━━━━━\u001b[0m\u001b[37m\u001b[0m \u001b[1m48s\u001b[0m 124ms/step - accuracy: 0.8676 - loss: 0.3676 - val_accuracy: 0.7793 - val_loss: 0.6702\n",
            "Epoch 56/100\n",
            "\u001b[1m384/384\u001b[0m \u001b[32m━━━━━━━━━━━━━━━━━━━━\u001b[0m\u001b[37m\u001b[0m \u001b[1m49s\u001b[0m 126ms/step - accuracy: 0.8609 - loss: 0.3927 - val_accuracy: 0.8246 - val_loss: 0.5875\n",
            "Epoch 57/100\n",
            "\u001b[1m384/384\u001b[0m \u001b[32m━━━━━━━━━━━━━━━━━━━━\u001b[0m\u001b[37m\u001b[0m \u001b[1m47s\u001b[0m 122ms/step - accuracy: 0.8683 - loss: 0.3699 - val_accuracy: 0.8044 - val_loss: 0.6465\n",
            "Epoch 58/100\n",
            "\u001b[1m384/384\u001b[0m \u001b[32m━━━━━━━━━━━━━━━━━━━━\u001b[0m\u001b[37m\u001b[0m \u001b[1m46s\u001b[0m 120ms/step - accuracy: 0.8649 - loss: 0.3771 - val_accuracy: 0.8080 - val_loss: 0.6192\n",
            "Epoch 59/100\n",
            "\u001b[1m384/384\u001b[0m \u001b[32m━━━━━━━━━━━━━━━━━━━━\u001b[0m\u001b[37m\u001b[0m \u001b[1m46s\u001b[0m 120ms/step - accuracy: 0.8737 - loss: 0.3607 - val_accuracy: 0.7943 - val_loss: 0.6556\n",
            "Epoch 60/100\n",
            "\u001b[1m384/384\u001b[0m \u001b[32m━━━━━━━━━━━━━━━━━━━━\u001b[0m\u001b[37m\u001b[0m \u001b[1m47s\u001b[0m 122ms/step - accuracy: 0.8746 - loss: 0.3565 - val_accuracy: 0.8106 - val_loss: 0.8135\n",
            "Epoch 61/100\n",
            "\u001b[1m384/384\u001b[0m \u001b[32m━━━━━━━━━━━━━━━━━━━━\u001b[0m\u001b[37m\u001b[0m \u001b[1m47s\u001b[0m 121ms/step - accuracy: 0.8819 - loss: 0.3447 - val_accuracy: 0.8008 - val_loss: 0.6183\n",
            "Epoch 62/100\n",
            "\u001b[1m384/384\u001b[0m \u001b[32m━━━━━━━━━━━━━━━━━━━━\u001b[0m\u001b[37m\u001b[0m \u001b[1m48s\u001b[0m 124ms/step - accuracy: 0.8739 - loss: 0.3469 - val_accuracy: 0.8152 - val_loss: 2.3911\n",
            "Epoch 63/100\n",
            "\u001b[1m384/384\u001b[0m \u001b[32m━━━━━━━━━━━━━━━━━━━━\u001b[0m\u001b[37m\u001b[0m \u001b[1m47s\u001b[0m 123ms/step - accuracy: 0.8765 - loss: 0.3499 - val_accuracy: 0.8022 - val_loss: 0.6975\n",
            "Epoch 64/100\n",
            "\u001b[1m384/384\u001b[0m \u001b[32m━━━━━━━━━━━━━━━━━━━━\u001b[0m\u001b[37m\u001b[0m \u001b[1m47s\u001b[0m 123ms/step - accuracy: 0.8788 - loss: 0.3401 - val_accuracy: 0.8077 - val_loss: 0.7329\n",
            "Epoch 65/100\n",
            "\u001b[1m384/384\u001b[0m \u001b[32m━━━━━━━━━━━━━━━━━━━━\u001b[0m\u001b[37m\u001b[0m \u001b[1m49s\u001b[0m 127ms/step - accuracy: 0.8791 - loss: 0.3365 - val_accuracy: 0.7943 - val_loss: 0.8597\n",
            "Epoch 66/100\n",
            "\u001b[1m384/384\u001b[0m \u001b[32m━━━━━━━━━━━━━━━━━━━━\u001b[0m\u001b[37m\u001b[0m \u001b[1m82s\u001b[0m 128ms/step - accuracy: 0.8692 - loss: 0.3469 - val_accuracy: 0.8106 - val_loss: 0.6281\n",
            "Epoch 67/100\n",
            "\u001b[1m384/384\u001b[0m \u001b[32m━━━━━━━━━━━━━━━━━━━━\u001b[0m\u001b[37m\u001b[0m \u001b[1m49s\u001b[0m 128ms/step - accuracy: 0.8816 - loss: 0.3312 - val_accuracy: 0.8015 - val_loss: 0.6686\n",
            "Epoch 68/100\n",
            "\u001b[1m384/384\u001b[0m \u001b[32m━━━━━━━━━━━━━━━━━━━━\u001b[0m\u001b[37m\u001b[0m \u001b[1m82s\u001b[0m 129ms/step - accuracy: 0.8889 - loss: 0.3146 - val_accuracy: 0.8087 - val_loss: 0.6783\n",
            "Epoch 69/100\n",
            "\u001b[1m384/384\u001b[0m \u001b[32m━━━━━━━━━━━━━━━━━━━━\u001b[0m\u001b[37m\u001b[0m \u001b[1m49s\u001b[0m 128ms/step - accuracy: 0.8856 - loss: 0.3269 - val_accuracy: 0.7907 - val_loss: 0.6711\n",
            "Epoch 70/100\n",
            "\u001b[1m384/384\u001b[0m \u001b[32m━━━━━━━━━━━━━━━━━━━━\u001b[0m\u001b[37m\u001b[0m \u001b[1m48s\u001b[0m 125ms/step - accuracy: 0.8834 - loss: 0.3305 - val_accuracy: 0.7989 - val_loss: 0.6485\n",
            "Epoch 71/100\n",
            "\u001b[1m384/384\u001b[0m \u001b[32m━━━━━━━━━━━━━━━━━━━━\u001b[0m\u001b[37m\u001b[0m \u001b[1m48s\u001b[0m 125ms/step - accuracy: 0.8880 - loss: 0.3060 - val_accuracy: 0.8119 - val_loss: 0.6479\n",
            "Epoch 72/100\n",
            "\u001b[1m384/384\u001b[0m \u001b[32m━━━━━━━━━━━━━━━━━━━━\u001b[0m\u001b[37m\u001b[0m \u001b[1m49s\u001b[0m 128ms/step - accuracy: 0.8769 - loss: 0.3318 - val_accuracy: 0.8077 - val_loss: 0.6358\n",
            "Epoch 73/100\n",
            "\u001b[1m384/384\u001b[0m \u001b[32m━━━━━━━━━━━━━━━━━━━━\u001b[0m\u001b[37m\u001b[0m \u001b[1m48s\u001b[0m 125ms/step - accuracy: 0.8932 - loss: 0.3013 - val_accuracy: 0.8364 - val_loss: 0.5794\n",
            "Epoch 74/100\n",
            "\u001b[1m384/384\u001b[0m \u001b[32m━━━━━━━━━━━━━━━━━━━━\u001b[0m\u001b[37m\u001b[0m \u001b[1m48s\u001b[0m 125ms/step - accuracy: 0.8878 - loss: 0.3085 - val_accuracy: 0.8100 - val_loss: 0.6336\n",
            "Epoch 75/100\n",
            "\u001b[1m384/384\u001b[0m \u001b[32m━━━━━━━━━━━━━━━━━━━━\u001b[0m\u001b[37m\u001b[0m \u001b[1m48s\u001b[0m 125ms/step - accuracy: 0.8880 - loss: 0.3115 - val_accuracy: 0.7934 - val_loss: 0.6786\n",
            "Epoch 76/100\n",
            "\u001b[1m384/384\u001b[0m \u001b[32m━━━━━━━━━━━━━━━━━━━━\u001b[0m\u001b[37m\u001b[0m \u001b[1m48s\u001b[0m 126ms/step - accuracy: 0.8868 - loss: 0.3091 - val_accuracy: 0.8184 - val_loss: 0.6511\n",
            "Epoch 77/100\n",
            "\u001b[1m384/384\u001b[0m \u001b[32m━━━━━━━━━━━━━━━━━━━━\u001b[0m\u001b[37m\u001b[0m \u001b[1m82s\u001b[0m 126ms/step - accuracy: 0.8845 - loss: 0.3240 - val_accuracy: 0.8145 - val_loss: 0.6641\n",
            "Epoch 78/100\n",
            "\u001b[1m384/384\u001b[0m \u001b[32m━━━━━━━━━━━━━━━━━━━━\u001b[0m\u001b[37m\u001b[0m \u001b[1m49s\u001b[0m 129ms/step - accuracy: 0.8936 - loss: 0.3003 - val_accuracy: 0.7911 - val_loss: 0.7317\n",
            "Epoch 79/100\n",
            "\u001b[1m384/384\u001b[0m \u001b[32m━━━━━━━━━━━━━━━━━━━━\u001b[0m\u001b[37m\u001b[0m \u001b[1m49s\u001b[0m 127ms/step - accuracy: 0.8938 - loss: 0.2980 - val_accuracy: 0.8110 - val_loss: 0.7338\n",
            "Epoch 80/100\n",
            "\u001b[1m384/384\u001b[0m \u001b[32m━━━━━━━━━━━━━━━━━━━━\u001b[0m\u001b[37m\u001b[0m \u001b[1m49s\u001b[0m 128ms/step - accuracy: 0.8913 - loss: 0.3133 - val_accuracy: 0.8136 - val_loss: 0.6689\n",
            "Epoch 81/100\n",
            "\u001b[1m384/384\u001b[0m \u001b[32m━━━━━━━━━━━━━━━━━━━━\u001b[0m\u001b[37m\u001b[0m \u001b[1m49s\u001b[0m 128ms/step - accuracy: 0.8965 - loss: 0.2908 - val_accuracy: 0.8168 - val_loss: 0.6471\n",
            "Epoch 82/100\n",
            "\u001b[1m384/384\u001b[0m \u001b[32m━━━━━━━━━━━━━━━━━━━━\u001b[0m\u001b[37m\u001b[0m \u001b[1m48s\u001b[0m 126ms/step - accuracy: 0.8866 - loss: 0.3057 - val_accuracy: 0.8162 - val_loss: 0.6445\n",
            "Epoch 83/100\n",
            "\u001b[1m384/384\u001b[0m \u001b[32m━━━━━━━━━━━━━━━━━━━━\u001b[0m\u001b[37m\u001b[0m \u001b[1m48s\u001b[0m 126ms/step - accuracy: 0.8985 - loss: 0.2895 - val_accuracy: 0.8149 - val_loss: 0.6279\n",
            "Epoch 84/100\n",
            "\u001b[1m384/384\u001b[0m \u001b[32m━━━━━━━━━━━━━━━━━━━━\u001b[0m\u001b[37m\u001b[0m \u001b[1m48s\u001b[0m 125ms/step - accuracy: 0.8964 - loss: 0.2883 - val_accuracy: 0.8048 - val_loss: 0.6906\n",
            "Epoch 85/100\n",
            "\u001b[1m384/384\u001b[0m \u001b[32m━━━━━━━━━━━━━━━━━━━━\u001b[0m\u001b[37m\u001b[0m \u001b[1m48s\u001b[0m 125ms/step - accuracy: 0.8927 - loss: 0.2950 - val_accuracy: 0.8214 - val_loss: 0.6495\n",
            "Epoch 86/100\n",
            "\u001b[1m384/384\u001b[0m \u001b[32m━━━━━━━━━━━━━━━━━━━━\u001b[0m\u001b[37m\u001b[0m \u001b[1m62s\u001b[0m 160ms/step - accuracy: 0.8942 - loss: 0.2877 - val_accuracy: 0.8083 - val_loss: 0.6578\n",
            "Epoch 87/100\n",
            "\u001b[1m384/384\u001b[0m \u001b[32m━━━━━━━━━━━━━━━━━━━━\u001b[0m\u001b[37m\u001b[0m \u001b[1m51s\u001b[0m 132ms/step - accuracy: 0.9019 - loss: 0.2907 - val_accuracy: 0.7917 - val_loss: 0.6891\n",
            "Epoch 88/100\n",
            "\u001b[1m384/384\u001b[0m \u001b[32m━━━━━━━━━━━━━━━━━━━━\u001b[0m\u001b[37m\u001b[0m \u001b[1m50s\u001b[0m 130ms/step - accuracy: 0.9097 - loss: 0.2549 - val_accuracy: 0.8136 - val_loss: 0.6963\n",
            "Epoch 89/100\n",
            "\u001b[1m384/384\u001b[0m \u001b[32m━━━━━━━━━━━━━━━━━━━━\u001b[0m\u001b[37m\u001b[0m \u001b[1m50s\u001b[0m 129ms/step - accuracy: 0.8982 - loss: 0.2855 - val_accuracy: 0.8211 - val_loss: 0.7096\n",
            "Epoch 90/100\n",
            "\u001b[1m384/384\u001b[0m \u001b[32m━━━━━━━━━━━━━━━━━━━━\u001b[0m\u001b[37m\u001b[0m \u001b[1m48s\u001b[0m 125ms/step - accuracy: 0.9052 - loss: 0.2696 - val_accuracy: 0.8015 - val_loss: 0.7049\n",
            "Epoch 91/100\n",
            "\u001b[1m384/384\u001b[0m \u001b[32m━━━━━━━━━━━━━━━━━━━━\u001b[0m\u001b[37m\u001b[0m \u001b[1m81s\u001b[0m 121ms/step - accuracy: 0.9006 - loss: 0.2695 - val_accuracy: 0.7816 - val_loss: 0.7044\n",
            "Epoch 92/100\n",
            "\u001b[1m384/384\u001b[0m \u001b[32m━━━━━━━━━━━━━━━━━━━━\u001b[0m\u001b[37m\u001b[0m \u001b[1m82s\u001b[0m 122ms/step - accuracy: 0.9103 - loss: 0.2558 - val_accuracy: 0.8067 - val_loss: 0.6918\n",
            "Epoch 93/100\n",
            "\u001b[1m384/384\u001b[0m \u001b[32m━━━━━━━━━━━━━━━━━━━━\u001b[0m\u001b[37m\u001b[0m \u001b[1m47s\u001b[0m 123ms/step - accuracy: 0.9033 - loss: 0.2799 - val_accuracy: 0.8302 - val_loss: 0.6727\n",
            "Epoch 94/100\n",
            "\u001b[1m384/384\u001b[0m \u001b[32m━━━━━━━━━━━━━━━━━━━━\u001b[0m\u001b[37m\u001b[0m \u001b[1m47s\u001b[0m 122ms/step - accuracy: 0.9022 - loss: 0.2833 - val_accuracy: 0.8116 - val_loss: 0.9138\n",
            "Epoch 95/100\n",
            "\u001b[1m384/384\u001b[0m \u001b[32m━━━━━━━━━━━━━━━━━━━━\u001b[0m\u001b[37m\u001b[0m \u001b[1m47s\u001b[0m 123ms/step - accuracy: 0.9041 - loss: 0.2603 - val_accuracy: 0.8198 - val_loss: 0.6656\n",
            "Epoch 96/100\n",
            "\u001b[1m384/384\u001b[0m \u001b[32m━━━━━━━━━━━━━━━━━━━━\u001b[0m\u001b[37m\u001b[0m \u001b[1m46s\u001b[0m 119ms/step - accuracy: 0.9058 - loss: 0.2580 - val_accuracy: 0.8191 - val_loss: 0.6870\n",
            "Epoch 97/100\n",
            "\u001b[1m384/384\u001b[0m \u001b[32m━━━━━━━━━━━━━━━━━━━━\u001b[0m\u001b[37m\u001b[0m \u001b[1m48s\u001b[0m 124ms/step - accuracy: 0.9068 - loss: 0.2594 - val_accuracy: 0.7696 - val_loss: 0.7783\n",
            "Epoch 98/100\n",
            "\u001b[1m384/384\u001b[0m \u001b[32m━━━━━━━━━━━━━━━━━━━━\u001b[0m\u001b[37m\u001b[0m \u001b[1m48s\u001b[0m 126ms/step - accuracy: 0.9024 - loss: 0.2677 - val_accuracy: 0.7917 - val_loss: 0.7795\n",
            "Epoch 99/100\n",
            "\u001b[1m384/384\u001b[0m \u001b[32m━━━━━━━━━━━━━━━━━━━━\u001b[0m\u001b[37m\u001b[0m \u001b[1m48s\u001b[0m 124ms/step - accuracy: 0.8995 - loss: 0.2844 - val_accuracy: 0.8083 - val_loss: 0.7299\n",
            "Epoch 100/100\n",
            "\u001b[1m384/384\u001b[0m \u001b[32m━━━━━━━━━━━━━━━━━━━━\u001b[0m\u001b[37m\u001b[0m \u001b[1m48s\u001b[0m 125ms/step - accuracy: 0.9112 - loss: 0.2602 - val_accuracy: 0.8022 - val_loss: 0.7263\n"
          ]
        },
        {
          "data": {
            "text/plain": [
              "<keras.src.callbacks.history.History at 0x7bc2e3088c10>"
            ]
          },
          "execution_count": 26,
          "metadata": {},
          "output_type": "execute_result"
        }
      ],
      "source": [
        "model.fit(train_generator,epochs=100,validation_data=test_generator)"
      ]
    },
    {
      "cell_type": "markdown",
      "id": "b85fa46d",
      "metadata": {},
      "source": [
        "#### Save the Trained Model\n",
        "We save our trained model to a file so we can use it later without retraining."
      ]
    },
    {
      "cell_type": "code",
      "execution_count": 28,
      "id": "460bf436",
      "metadata": {
        "id": "460bf436"
      },
      "outputs": [],
      "source": [
        "from keras.models import save_model\n",
        "save_model(model,'cnn.keras')"
      ]
    },
    {
      "cell_type": "code",
      "execution_count": null,
      "id": "ex4NvjeKy5Mg",
      "metadata": {
        "id": "ex4NvjeKy5Mg"
      },
      "outputs": [],
      "source": []
    }
  ],
  "metadata": {
    "accelerator": "GPU",
    "colab": {
      "gpuType": "T4",
      "provenance": []
    },
    "kernelspec": {
      "display_name": "Python 3",
      "name": "python3"
    },
    "language_info": {
      "codemirror_mode": {
        "name": "ipython",
        "version": 3
      },
      "file_extension": ".py",
      "mimetype": "text/x-python",
      "name": "python",
      "nbconvert_exporter": "python",
      "pygments_lexer": "ipython3",
      "version": "3.12.6"
    }
  },
  "nbformat": 4,
  "nbformat_minor": 5
}
